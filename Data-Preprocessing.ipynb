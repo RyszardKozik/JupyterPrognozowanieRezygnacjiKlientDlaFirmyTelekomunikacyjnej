{
 "cells": [
  {
   "cell_type": "code",
   "execution_count": 2,
   "metadata": {},
   "outputs": [
    {
     "name": "stdout",
     "output_type": "stream",
     "text": [
      "   id  subscription_age  bill_avg  reamining_contract  service_failure_count  \\\n",
      "0  15          4.668335  0.458372            0.140000              -0.335818   \n",
      "1  18          2.835389 -1.433376            0.716039              -0.335818   \n",
      "2  23          3.174460 -0.222657            0.000000              -0.335818   \n",
      "3  27          2.171991  0.155692            0.716039               0.888749   \n",
      "4  34          1.936116 -1.433376            0.716039              -0.335818   \n",
      "\n",
      "   download_avg  upload_avg  download_over_limit  churn  is_tv_subscriber_1  \\\n",
      "0           8.4         2.3                    0      0                 1.0   \n",
      "1           0.0         0.0                    0      1                 0.0   \n",
      "2          13.7         0.9                    0      1                 1.0   \n",
      "3           0.0         0.0                    0      1                 0.0   \n",
      "4           0.0         0.0                    0      1                 0.0   \n",
      "\n",
      "   is_movie_package_subscriber_1  \n",
      "0                            0.0  \n",
      "1                            0.0  \n",
      "2                            0.0  \n",
      "3                            0.0  \n",
      "4                            0.0  \n"
     ]
    }
   ],
   "source": [
    "import pandas as pd\n",
    "from sklearn.preprocessing import StandardScaler, OneHotEncoder\n",
    "from sklearn.compose import ColumnTransformer\n",
    "from sklearn.impute import SimpleImputer\n",
    "from sklearn.pipeline import Pipeline\n",
    "\n",
    "# Load the dataset\n",
    "df = pd.read_csv(r'C:\\Project\\myProject\\Prognozowanie-rezygnacji-klientów-dla-firmy-telekomunikacyjnej\\internet_service_churn.csv')\n",
    "\n",
    "# Handling missing values (for 'reamining_contract', 'download_avg', and 'upload_avg')\n",
    "imputer = SimpleImputer(strategy='mean')\n",
    "df['reamining_contract'] = imputer.fit_transform(df[['reamining_contract']])\n",
    "df[['download_avg', 'upload_avg']] = imputer.fit_transform(df[['download_avg', 'upload_avg']])\n",
    "\n",
    "# Encoding categorical variables (for 'is_tv_subscriber' and 'is_movie_package_subscriber')\n",
    "encoder = OneHotEncoder(drop='first', sparse_output=False)\n",
    "encoded_columns = encoder.fit_transform(df[['is_tv_subscriber', 'is_movie_package_subscriber']])\n",
    "\n",
    "# Adding the encoded columns back to the DataFrame\n",
    "df_encoded = pd.DataFrame(encoded_columns, columns=encoder.get_feature_names_out(['is_tv_subscriber', 'is_movie_package_subscriber']))\n",
    "df = pd.concat([df, df_encoded], axis=1)\n",
    "\n",
    "# Drop original categorical columns after encoding\n",
    "df.drop(['is_tv_subscriber', 'is_movie_package_subscriber'], axis=1, inplace=True)\n",
    "\n",
    "# Normalizing numerical features (for 'bill_avg', 'subscription_age', 'service_failure_count')\n",
    "scaler = StandardScaler()\n",
    "df[['bill_avg', 'subscription_age', 'service_failure_count']] = scaler.fit_transform(df[['bill_avg', 'subscription_age', 'service_failure_count']])\n",
    "\n",
    "# Display the updated DataFrame\n",
    "print(df.head())\n"
   ]
  }
 ],
 "metadata": {
  "kernelspec": {
   "display_name": ".venv",
   "language": "python",
   "name": "python3"
  },
  "language_info": {
   "codemirror_mode": {
    "name": "ipython",
    "version": 3
   },
   "file_extension": ".py",
   "mimetype": "text/x-python",
   "name": "python",
   "nbconvert_exporter": "python",
   "pygments_lexer": "ipython3",
   "version": "3.11.7"
  }
 },
 "nbformat": 4,
 "nbformat_minor": 2
}
