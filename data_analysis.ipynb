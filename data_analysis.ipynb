{
 "cells": [
  {
   "cell_type": "code",
   "execution_count": 2,
   "metadata": {},
   "outputs": [
    {
     "name": "stdout",
     "output_type": "stream",
     "text": [
      "   id  is_tv_subscriber  is_movie_package_subscriber  subscription_age  \\\n",
      "0  15                 1                            0             11.95   \n",
      "1  18                 0                            0              8.22   \n",
      "2  23                 1                            0              8.91   \n",
      "3  27                 0                            0              6.87   \n",
      "4  34                 0                            0              6.39   \n",
      "\n",
      "   bill_avg  reamining_contract  service_failure_count  download_avg  \\\n",
      "0        25                0.14                      0           8.4   \n",
      "1         0                 NaN                      0           0.0   \n",
      "2        16                0.00                      0          13.7   \n",
      "3        21                 NaN                      1           0.0   \n",
      "4         0                 NaN                      0           0.0   \n",
      "\n",
      "   upload_avg  download_over_limit  churn  \n",
      "0         2.3                    0      0  \n",
      "1         0.0                    0      1  \n",
      "2         0.9                    0      1  \n",
      "3         0.0                    0      1  \n",
      "4         0.0                    0      1  \n"
     ]
    }
   ],
   "source": [
    "import pandas as pd\n",
    "\n",
    "# Use the absolute path to load the dataset\n",
    "df = pd.read_csv(r'C:\\Project\\myProject\\Prognozowanie-rezygnacji-klientów-dla-firmy-telekomunikacyjnej\\internet_service_churn.csv')\n",
    "\n",
    "# Continue with your analysis\n",
    "print(df.head())\n"
   ]
  }
 ],
 "metadata": {
  "kernelspec": {
   "display_name": ".venv",
   "language": "python",
   "name": "python3"
  },
  "language_info": {
   "codemirror_mode": {
    "name": "ipython",
    "version": 3
   },
   "file_extension": ".py",
   "mimetype": "text/x-python",
   "name": "python",
   "nbconvert_exporter": "python",
   "pygments_lexer": "ipython3",
   "version": "3.11.7"
  }
 },
 "nbformat": 4,
 "nbformat_minor": 2
}
