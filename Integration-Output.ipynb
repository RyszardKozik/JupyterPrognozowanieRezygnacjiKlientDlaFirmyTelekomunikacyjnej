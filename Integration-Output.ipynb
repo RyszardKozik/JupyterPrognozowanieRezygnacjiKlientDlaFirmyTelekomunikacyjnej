{
 "cells": [
  {
   "cell_type": "code",
   "execution_count": 6,
   "metadata": {},
   "outputs": [
    {
     "name": "stdout",
     "output_type": "stream",
     "text": [
      "Churn Probability: 0.50\n",
      "Customer Status: Low risk of churn\n",
      "Plot saved as 'churn_probability_plot.png'\n",
      "Risk Status: Low risk of churn\n"
     ]
    }
   ],
   "source": [
    "from sklearn.dummy import DummyClassifier\n",
    "from sklearn.preprocessing import StandardScaler\n",
    "import numpy as np\n",
    "\n",
    "# Create a dummy model and scaler\n",
    "model = DummyClassifier(strategy=\"uniform\")\n",
    "scaler = StandardScaler()\n",
    "\n",
    "# Fit the dummy objects on some sample data\n",
    "scaler.fit([[0, 0, 0, 0], [1, 1, 1, 1]])\n",
    "model.fit(np.array([[0, 0, 0, 0], [1, 1, 1, 1]]), [0, 1])\n",
    "\n",
    "# Call the function\n",
    "sample_customer_data = [[0.5, 0.5, 0.5, 0.5]]\n",
    "risk_status = predict_churn(sample_customer_data, model, scaler)\n",
    "print(f\"Risk Status: {risk_status}\")\n",
    "\n"
   ]
  }
 ],
 "metadata": {
  "kernelspec": {
   "display_name": ".venv",
   "language": "python",
   "name": "python3"
  },
  "language_info": {
   "codemirror_mode": {
    "name": "ipython",
    "version": 3
   },
   "file_extension": ".py",
   "mimetype": "text/x-python",
   "name": "python",
   "nbconvert_exporter": "python",
   "pygments_lexer": "ipython3",
   "version": "3.11.7"
  }
 },
 "nbformat": 4,
 "nbformat_minor": 2
}
